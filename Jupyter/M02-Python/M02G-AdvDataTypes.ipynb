{
  "cells": [
    {
      "cell_type": "markdown",
      "metadata": {
        "id": "pOrSBEmKBmxF"
      },
      "source": [
        "![Cloud-First](https://github.com/tulip-lab/sit742/blob/develop/Jupyter/image/CloudFirst.png?raw=1)\n",
        "\n",
        "\n",
        "\n",
        "# SIT742: Modern Data Science\n",
        "**(Module: Python Foundations for Big Data)**\n",
        "\n",
        "---\n",
        "- Materials in this module include resources collected from various open-source online repositories.\n",
        "- You are free to use, change and distribute this package.\n",
        "- If you found any issue/bug for this document, please submit an issue at [tulip-lab/sit742](https://github.com/tulip-lab/sit742/issues)\n",
        "\n",
        "\n",
        "Prepared by **SIT742 Teaching Team**\n",
        "\n",
        "---\n",
        "\n",
        "\n",
        "## Session 2G: Advanced Data Types\n",
        "\n",
        "we will learn about advanced data types in addition to the strings and number learnt before. We will examine lists, tuples and dictionaries used for a collection of related data."
      ]
    },
    {
      "cell_type": "markdown",
      "metadata": {
        "id": "8rxG_XNwBmxI"
      },
      "source": [
        "## Table of Content\n",
        "\n",
        "\n",
        "1 [List](#cell_list)\n",
        "\n",
        "2 [Tuple](#cell_tuple)\n",
        "\n",
        "3 [Dictionary](#cell_dict)\n",
        "\n"
      ]
    },
    {
      "cell_type": "markdown",
      "metadata": {
        "id": "4Xu7rvCrBmyp"
      },
      "source": [
        "<a id = \"cell_list\"></a>"
      ]
    },
    {
      "cell_type": "markdown",
      "metadata": {
        "id": "ZXxkKq8eBmyq"
      },
      "source": [
        "\n",
        "## 1 List\n",
        "\n",
        "**List is a sequence**\n",
        "\n",
        "Like a string, a **list** is a sequence of values. The values in a list can be any type. We call the values **items** of the list. To create a list, enclose the items in square brackets.\n",
        "\n",
        "For example,\n",
        "               "
      ]
    },
    {
      "cell_type": "code",
      "execution_count": 1,
      "metadata": {
        "id": "E7e8UuwGBmyq"
      },
      "outputs": [],
      "source": [
        "shoplist = ['apple', 'mango', 'carrot', 'banana']\n",
        "l = [10, 20, 30, 40]\n",
        "empty = [ ]   # Initialize an empty list"
      ]
    },
    {
      "cell_type": "code",
      "execution_count": 2,
      "metadata": {
        "id": "aY2iD5kNBmys",
        "outputId": "ca9433e9-9174-47f6-8e08-bbed6972c1ec",
        "colab": {
          "base_uri": "https://localhost:8080/"
        }
      },
      "outputs": [
        {
          "output_type": "execute_result",
          "data": {
            "text/plain": [
              "['apple', 'mango', 'carrot', 'banana']"
            ]
          },
          "metadata": {},
          "execution_count": 2
        }
      ],
      "source": [
        "shoplist"
      ]
    },
    {
      "cell_type": "code",
      "execution_count": 3,
      "metadata": {
        "id": "KE779JH2Bmyu",
        "outputId": "eec5287f-188c-4a0c-b98c-a0b94153d4de",
        "colab": {
          "base_uri": "https://localhost:8080/"
        }
      },
      "outputs": [
        {
          "output_type": "execute_result",
          "data": {
            "text/plain": [
              "[10, 20, 30, 40]"
            ]
          },
          "metadata": {},
          "execution_count": 3
        }
      ],
      "source": [
        "l"
      ]
    },
    {
      "cell_type": "code",
      "execution_count": 4,
      "metadata": {
        "id": "_IpjFmd4Bmyx",
        "outputId": "6e23e02c-3ac3-4881-be37-14cc11843b90",
        "colab": {
          "base_uri": "https://localhost:8080/"
        }
      },
      "outputs": [
        {
          "output_type": "execute_result",
          "data": {
            "text/plain": [
              "[]"
            ]
          },
          "metadata": {},
          "execution_count": 4
        }
      ],
      "source": [
        "empty"
      ]
    },
    {
      "cell_type": "code",
      "execution_count": 5,
      "metadata": {
        "id": "XBrjhj1iBmyz",
        "outputId": "846787e9-1240-4a6c-c4f2-e77fb6bc68c7",
        "colab": {
          "base_uri": "https://localhost:8080/"
        }
      },
      "outputs": [
        {
          "output_type": "execute_result",
          "data": {
            "text/plain": [
              "['apple', 'mango', 'carrot', 'banana']"
            ]
          },
          "metadata": {},
          "execution_count": 5
        }
      ],
      "source": [
        "shoplist"
      ]
    },
    {
      "cell_type": "markdown",
      "metadata": {
        "id": "j7ruHjt3Bmy0"
      },
      "source": [
        "The elements of a list do not have to be the same type. An another list can also be nested inside a list.\n",
        "\n",
        "To access the element of a list, use the bracket operator to obtain the value available at the index. Note that the indices of list start at $0$. You can also use negative value as index, if you counts from right. For example, the negative index of last item is $-1$. Try the following examples:"
      ]
    },
    {
      "cell_type": "code",
      "execution_count": 6,
      "metadata": {
        "id": "W9akILf7Bmy1"
      },
      "outputs": [],
      "source": [
        "l = [10, 20, 30, 40]"
      ]
    },
    {
      "cell_type": "code",
      "execution_count": 7,
      "metadata": {
        "id": "Z5zPJWxpBmy3",
        "outputId": "3f00b8e7-c354-41e6-fc3c-46d060f103e1",
        "colab": {
          "base_uri": "https://localhost:8080/"
        }
      },
      "outputs": [
        {
          "output_type": "execute_result",
          "data": {
            "text/plain": [
              "30"
            ]
          },
          "metadata": {},
          "execution_count": 7
        }
      ],
      "source": [
        "l[2]"
      ]
    },
    {
      "cell_type": "code",
      "execution_count": 8,
      "metadata": {
        "id": "bNH-O27pBmy4",
        "outputId": "4a10cd94-2995-4049-c150-398656df9c09",
        "colab": {
          "base_uri": "https://localhost:8080/"
        }
      },
      "outputs": [
        {
          "output_type": "execute_result",
          "data": {
            "text/plain": [
              "40"
            ]
          },
          "metadata": {},
          "execution_count": 8
        }
      ],
      "source": [
        "l[-1]"
      ]
    },
    {
      "cell_type": "code",
      "execution_count": 9,
      "metadata": {
        "id": "NtKexic5Bmy7",
        "outputId": "87323094-c4d1-46eb-89e6-09cf7718e446",
        "colab": {
          "base_uri": "https://localhost:8080/"
        }
      },
      "outputs": [
        {
          "output_type": "execute_result",
          "data": {
            "text/plain": [
              "20"
            ]
          },
          "metadata": {},
          "execution_count": 9
        }
      ],
      "source": [
        "l[-3]"
      ]
    },
    {
      "cell_type": "markdown",
      "metadata": {
        "id": "Wpr1v6zrBmy9"
      },
      "source": [
        "Here is an example of nested list:"
      ]
    },
    {
      "cell_type": "code",
      "execution_count": 10,
      "metadata": {
        "id": "r0xGwqeJBmy-"
      },
      "outputs": [],
      "source": [
        "l = ['apple', 2.0, 5, [10, 20]]"
      ]
    },
    {
      "cell_type": "code",
      "execution_count": 11,
      "metadata": {
        "id": "SP-ntHwtBmy_",
        "outputId": "c0b02290-c319-4d87-fc5d-7c1887aa9226",
        "colab": {
          "base_uri": "https://localhost:8080/"
        }
      },
      "outputs": [
        {
          "output_type": "execute_result",
          "data": {
            "text/plain": [
              "2.0"
            ]
          },
          "metadata": {},
          "execution_count": 11
        }
      ],
      "source": [
        "l[1]"
      ]
    },
    {
      "cell_type": "code",
      "execution_count": 12,
      "metadata": {
        "id": "WQsbJkhABmzC",
        "outputId": "119d14ef-aa5a-4ecb-95b4-59cba71b5356",
        "colab": {
          "base_uri": "https://localhost:8080/"
        }
      },
      "outputs": [
        {
          "output_type": "execute_result",
          "data": {
            "text/plain": [
              "[10, 20]"
            ]
          },
          "metadata": {},
          "execution_count": 12
        }
      ],
      "source": [
        "l[3]"
      ]
    },
    {
      "cell_type": "code",
      "execution_count": 13,
      "metadata": {
        "id": "qDryScoCBmzD",
        "outputId": "208e8908-c712-4b26-b6f2-50293d082d5f",
        "colab": {
          "base_uri": "https://localhost:8080/"
        }
      },
      "outputs": [
        {
          "output_type": "execute_result",
          "data": {
            "text/plain": [
              "20"
            ]
          },
          "metadata": {},
          "execution_count": 13
        }
      ],
      "source": [
        "l[3][1]\n"
      ]
    },
    {
      "cell_type": "markdown",
      "metadata": {
        "id": "z-zzr7ICBmzF"
      },
      "source": [
        "Unlike strings, lists are mutable, which means they can be altered. We use bracket on the left side of an assignment to assign a value to a list item."
      ]
    },
    {
      "cell_type": "code",
      "execution_count": 14,
      "metadata": {
        "id": "rX_ghZH_BmzF"
      },
      "outputs": [],
      "source": [
        "l = [10, 20, 30, 40]\n",
        "l[1] = 200"
      ]
    },
    {
      "cell_type": "code",
      "execution_count": 15,
      "metadata": {
        "id": "WaAO_Ir2BmzH",
        "outputId": "ec98b8f8-8df7-4bc9-c4db-2c8df7135c54",
        "colab": {
          "base_uri": "https://localhost:8080/"
        }
      },
      "outputs": [
        {
          "output_type": "execute_result",
          "data": {
            "text/plain": [
              "[10, 200, 30, 40]"
            ]
          },
          "metadata": {},
          "execution_count": 15
        }
      ],
      "source": [
        "l"
      ]
    },
    {
      "cell_type": "markdown",
      "metadata": {
        "id": "bu8DphbXBmzI"
      },
      "source": [
        "**List operation**\n",
        "\n",
        " **In** is used to perform membership operation.\n",
        " The result of expression equals to **True** if a value exists in the list,\n",
        " and equals to **False** otherwise.\n"
      ]
    },
    {
      "cell_type": "code",
      "execution_count": 16,
      "metadata": {
        "id": "XbCUkFPFBmzJ"
      },
      "outputs": [],
      "source": [
        "shoplist = ['apple', 'mango', 'carrot', 'banana']"
      ]
    },
    {
      "cell_type": "code",
      "execution_count": 17,
      "metadata": {
        "id": "FLXYQQo9BmzK",
        "outputId": "eb77c7bf-f4a2-4957-a5e1-b7dd4171d150",
        "colab": {
          "base_uri": "https://localhost:8080/"
        }
      },
      "outputs": [
        {
          "output_type": "execute_result",
          "data": {
            "text/plain": [
              "True"
            ]
          },
          "metadata": {},
          "execution_count": 17
        }
      ],
      "source": [
        "'apple' in shoplist"
      ]
    },
    {
      "cell_type": "code",
      "execution_count": 18,
      "metadata": {
        "id": "IjdYHK1bBmzN",
        "outputId": "4a6412b5-6076-4bcd-b10c-76ca5a0408ac",
        "colab": {
          "base_uri": "https://localhost:8080/"
        }
      },
      "outputs": [
        {
          "output_type": "execute_result",
          "data": {
            "text/plain": [
              "False"
            ]
          },
          "metadata": {},
          "execution_count": 18
        }
      ],
      "source": [
        "'rice' in shoplist"
      ]
    },
    {
      "cell_type": "markdown",
      "metadata": {
        "id": "UNLrFdonBmzO"
      },
      "source": [
        "Similarly, **In** operator also applies to **string** type. Here are some examples:\n"
      ]
    },
    {
      "cell_type": "code",
      "execution_count": 19,
      "metadata": {
        "id": "GsfGjlPyBmzP",
        "outputId": "ebe9ce79-b4f6-43a9-abcb-86171bd93a32",
        "colab": {
          "base_uri": "https://localhost:8080/"
        }
      },
      "outputs": [
        {
          "output_type": "execute_result",
          "data": {
            "text/plain": [
              "True"
            ]
          },
          "metadata": {},
          "execution_count": 19
        }
      ],
      "source": [
        "'a' in 'banana'"
      ]
    },
    {
      "cell_type": "code",
      "execution_count": 20,
      "metadata": {
        "id": "GBe4RSgOBmzQ",
        "outputId": "d1f0d1ec-914b-489d-d585-1e4d49a4b2c3",
        "colab": {
          "base_uri": "https://localhost:8080/"
        }
      },
      "outputs": [
        {
          "output_type": "execute_result",
          "data": {
            "text/plain": [
              "False"
            ]
          },
          "metadata": {},
          "execution_count": 20
        }
      ],
      "source": [
        "'seed' in 'banana'    # Test if 'seed' is a substring of 'banana'"
      ]
    },
    {
      "cell_type": "markdown",
      "metadata": {
        "id": "HhQjXO2lBmzR"
      },
      "source": [
        "'**+**' is  used for concatenation operation"
      ]
    },
    {
      "cell_type": "code",
      "execution_count": 21,
      "metadata": {
        "id": "X6RqwGxQBmzT",
        "outputId": "9bb06f8d-1b35-4a01-973b-e2e2dc060774",
        "colab": {
          "base_uri": "https://localhost:8080/"
        }
      },
      "outputs": [
        {
          "output_type": "execute_result",
          "data": {
            "text/plain": [
              "[10, 20, 30, 40, 50, 60]"
            ]
          },
          "metadata": {},
          "execution_count": 21
        }
      ],
      "source": [
        "[10, 20, 30, 40 ] + [50, 60]"
      ]
    },
    {
      "cell_type": "code",
      "source": [
        "[50, 60]*3"
      ],
      "metadata": {
        "id": "BkPw_pLr5ere",
        "outputId": "7cd78036-817d-47a5-f63c-0344c6805515",
        "colab": {
          "base_uri": "https://localhost:8080/"
        }
      },
      "execution_count": 22,
      "outputs": [
        {
          "output_type": "execute_result",
          "data": {
            "text/plain": [
              "[50, 60, 50, 60, 50, 60]"
            ]
          },
          "metadata": {},
          "execution_count": 22
        }
      ]
    },
    {
      "cell_type": "markdown",
      "metadata": {
        "id": "-2qOyib35PBM"
      },
      "source": [
        "'**\\***' is used for to repeat the elements in a list a given number of times."
      ]
    },
    {
      "cell_type": "markdown",
      "metadata": {
        "id": "F6tP9GVhBmzU"
      },
      "source": [
        " [50, 60]*3\n",
        "\n",
        "     "
      ]
    },
    {
      "cell_type": "markdown",
      "metadata": {
        "id": "Nw0vR9K_BmzV"
      },
      "source": [
        "** List slices **\n",
        "Slicing operation allows to retrieve a slice of of the list. i.e. a part of the sequence. The sliding operation uses square brackets to enclose an optional pair of numbers separated by a colon. Again, to count the position of items from left(first item), start from $0$. If you count the position from right(last item), start from $-1$."
      ]
    },
    {
      "cell_type": "code",
      "execution_count": 23,
      "metadata": {
        "id": "GqB8ElRVBmzV"
      },
      "outputs": [],
      "source": [
        "l = [1, 2, 3, 4]"
      ]
    },
    {
      "cell_type": "code",
      "execution_count": 24,
      "metadata": {
        "id": "qnnI1lXSBmzW",
        "outputId": "b7c4c92e-72f6-4f0b-a4e8-f72d51c13469",
        "colab": {
          "base_uri": "https://localhost:8080/"
        }
      },
      "outputs": [
        {
          "output_type": "execute_result",
          "data": {
            "text/plain": [
              "[2, 3]"
            ]
          },
          "metadata": {},
          "execution_count": 24
        }
      ],
      "source": [
        "l[1:3]     # From position 1 to position 3 (excluded)"
      ]
    },
    {
      "cell_type": "code",
      "execution_count": 25,
      "metadata": {
        "id": "T1T4ljvqBmzY",
        "outputId": "fc974d24-7e36-45dc-9fe1-6e56f20644aa",
        "colab": {
          "base_uri": "https://localhost:8080/"
        }
      },
      "outputs": [
        {
          "output_type": "execute_result",
          "data": {
            "text/plain": [
              "[1, 2]"
            ]
          },
          "metadata": {},
          "execution_count": 25
        }
      ],
      "source": [
        "l[:2]     # From the beginning to position 2 (excluded)"
      ]
    },
    {
      "cell_type": "code",
      "execution_count": 26,
      "metadata": {
        "id": "039r1EDMBmza",
        "outputId": "c88c7514-78d3-4d38-e9db-d4b348b8559a",
        "colab": {
          "base_uri": "https://localhost:8080/"
        }
      },
      "outputs": [
        {
          "output_type": "execute_result",
          "data": {
            "text/plain": [
              "[3, 4]"
            ]
          },
          "metadata": {},
          "execution_count": 26
        }
      ],
      "source": [
        "l[-2:]    # From the second right to the end of the list"
      ]
    },
    {
      "cell_type": "markdown",
      "metadata": {
        "id": "x9vjy8R6Bmzb"
      },
      "source": [
        "If you omit both the first and the second indices, the slice is a copy of the whole list."
      ]
    },
    {
      "cell_type": "code",
      "execution_count": 27,
      "metadata": {
        "id": "e6U4CrvhBmzc",
        "outputId": "ed0b080b-941e-4701-fbc5-6bdbb9e2cea8",
        "colab": {
          "base_uri": "https://localhost:8080/"
        }
      },
      "outputs": [
        {
          "output_type": "execute_result",
          "data": {
            "text/plain": [
              "[1, 2, 3, 4]"
            ]
          },
          "metadata": {},
          "execution_count": 27
        }
      ],
      "source": [
        "l[:]"
      ]
    },
    {
      "cell_type": "markdown",
      "metadata": {
        "id": "0wMQJlYIBmzf"
      },
      "source": [
        "Since lists are mutable, above expression is often useful to make a copy before modifying original list."
      ]
    },
    {
      "cell_type": "code",
      "execution_count": 28,
      "metadata": {
        "id": "BA5iYESzBmzh"
      },
      "outputs": [],
      "source": [
        "l = [1, 2, 3, 4]\n",
        "l_org = l[:]\n",
        "l[0] = 8"
      ]
    },
    {
      "cell_type": "code",
      "execution_count": 29,
      "metadata": {
        "id": "qTMISAbJBmzn",
        "outputId": "f6a5cc8c-65ae-40bf-fc09-fc814cb0dcdc",
        "colab": {
          "base_uri": "https://localhost:8080/"
        }
      },
      "outputs": [
        {
          "output_type": "execute_result",
          "data": {
            "text/plain": [
              "[8, 2, 3, 4]"
            ]
          },
          "metadata": {},
          "execution_count": 29
        }
      ],
      "source": [
        "l"
      ]
    },
    {
      "cell_type": "code",
      "execution_count": 30,
      "metadata": {
        "id": "Smf9tzSSBmzp",
        "outputId": "b62d1b13-6ffe-4f1d-d81d-10989c571ea5",
        "colab": {
          "base_uri": "https://localhost:8080/"
        }
      },
      "outputs": [
        {
          "output_type": "execute_result",
          "data": {
            "text/plain": [
              "[1, 2, 3, 4]"
            ]
          },
          "metadata": {},
          "execution_count": 30
        }
      ],
      "source": [
        "l_org  # the original list is unchanged\n"
      ]
    },
    {
      "cell_type": "markdown",
      "metadata": {
        "id": "2h-9tDg3Bmzq"
      },
      "source": [
        "**List methods**\n",
        "\n",
        "The methods most often applied to a list include:\n",
        "- append()\n",
        "- len()\n",
        "- sort()\n",
        "- split()\n",
        "- join()"
      ]
    },
    {
      "cell_type": "markdown",
      "metadata": {
        "id": "qxDlX5huBmzr"
      },
      "source": [
        "**append()** method adds a new element to the end of a list."
      ]
    },
    {
      "cell_type": "code",
      "execution_count": 31,
      "metadata": {
        "id": "UUs8PmOiBmzs"
      },
      "outputs": [],
      "source": [
        "l= [1, 2, 3, 4]\n"
      ]
    },
    {
      "cell_type": "code",
      "execution_count": 32,
      "metadata": {
        "id": "sr7rr13xBmzt",
        "outputId": "78914a26-0a59-4031-ed85-2f9d54ad14f2",
        "colab": {
          "base_uri": "https://localhost:8080/"
        }
      },
      "outputs": [
        {
          "output_type": "execute_result",
          "data": {
            "text/plain": [
              "[1, 2, 3, 4]"
            ]
          },
          "metadata": {},
          "execution_count": 32
        }
      ],
      "source": [
        "l"
      ]
    },
    {
      "cell_type": "code",
      "execution_count": 33,
      "metadata": {
        "id": "3BhyF427Bmzy"
      },
      "outputs": [],
      "source": [
        "l.append(5)\n",
        "l.append([6, 7])  #list [6, 7] is nested in list l"
      ]
    },
    {
      "cell_type": "code",
      "execution_count": 35,
      "metadata": {
        "id": "kHh85_Y6Bmzz",
        "outputId": "0423c6d1-31ec-4e68-c3d0-357b25927182",
        "colab": {
          "base_uri": "https://localhost:8080/"
        }
      },
      "outputs": [
        {
          "output_type": "execute_result",
          "data": {
            "text/plain": [
              "[1, 2, 3, 4, 5, [6, 7]]"
            ]
          },
          "metadata": {},
          "execution_count": 35
        }
      ],
      "source": [
        "l"
      ]
    },
    {
      "cell_type": "markdown",
      "metadata": {
        "id": "XiLgDfWwBmz1"
      },
      "source": [
        " **len()** method returns the number of items of a list."
      ]
    },
    {
      "cell_type": "code",
      "execution_count": 36,
      "metadata": {
        "id": "5wRXT4WcBmz1",
        "outputId": "3c8e5e26-5a7c-4361-9997-f4843e788160",
        "colab": {
          "base_uri": "https://localhost:8080/"
        }
      },
      "outputs": [
        {
          "output_type": "execute_result",
          "data": {
            "text/plain": [
              "5"
            ]
          },
          "metadata": {},
          "execution_count": 36
        }
      ],
      "source": [
        "l = [1, 2, 3, 4, 5]\n",
        "len(l)"
      ]
    },
    {
      "cell_type": "code",
      "execution_count": 37,
      "metadata": {
        "id": "LhWFPL_zBmz2",
        "outputId": "32e248d0-ff0c-4e50-c10c-44a520103ce2",
        "colab": {
          "base_uri": "https://localhost:8080/"
        }
      },
      "outputs": [
        {
          "output_type": "execute_result",
          "data": {
            "text/plain": [
              "6"
            ]
          },
          "metadata": {},
          "execution_count": 37
        }
      ],
      "source": [
        "# A list nested in another list is counted as a single item\n",
        "l = [1, 2, 3, 4, 5, [6, 7]]\n",
        "len(l)"
      ]
    },
    {
      "cell_type": "markdown",
      "metadata": {
        "id": "xvuQnOPRBmz3"
      },
      "source": [
        " **sort()** arranges the elements of the list from low to high."
      ]
    },
    {
      "cell_type": "code",
      "execution_count": 38,
      "metadata": {
        "id": "v2Me8qqfBmz4"
      },
      "outputs": [],
      "source": [
        "shoplist = ['apple', 'mango', 'carrot', 'banana']\n",
        "shoplist.sort()"
      ]
    },
    {
      "cell_type": "code",
      "execution_count": 39,
      "metadata": {
        "id": "wNW-D9ifBmz6",
        "outputId": "d2118c70-8e0c-4def-818d-bdbbfa0a04fe",
        "colab": {
          "base_uri": "https://localhost:8080/"
        }
      },
      "outputs": [
        {
          "output_type": "execute_result",
          "data": {
            "text/plain": [
              "['apple', 'banana', 'carrot', 'mango']"
            ]
          },
          "metadata": {},
          "execution_count": 39
        }
      ],
      "source": [
        "shoplist"
      ]
    },
    {
      "cell_type": "markdown",
      "metadata": {
        "id": "YIPqgrbDBmz8"
      },
      "source": [
        "\n",
        " It is worth noted that **sort()** method modifies the list in place, and does not return any value. Please try the following:"
      ]
    },
    {
      "cell_type": "code",
      "execution_count": 40,
      "metadata": {
        "id": "JauCHCv_Bmz8"
      },
      "outputs": [],
      "source": [
        "shoplist = ['apple', 'mango', 'carrot', 'banana']\n",
        "shoplist_sorted = shoplist.sort()"
      ]
    },
    {
      "cell_type": "code",
      "execution_count": 41,
      "metadata": {
        "id": "k1eeAAaxBmz_"
      },
      "outputs": [],
      "source": [
        "shoplist_sorted    # No value is returned"
      ]
    },
    {
      "cell_type": "markdown",
      "metadata": {
        "id": "IxkXo9AZBm0A"
      },
      "source": [
        "\n",
        "There is an alternative way of sorting a list. The build-in function **sorted()** returns a sorted list, and keeps the original one unchanged."
      ]
    },
    {
      "cell_type": "code",
      "execution_count": 42,
      "metadata": {
        "id": "SiS31NXcBm0A"
      },
      "outputs": [],
      "source": [
        "shoplist = ['apple', 'mango', 'carrot', 'banana']\n",
        "shoplist_sorted = sorted(shoplist)          #sorted() function return a new list"
      ]
    },
    {
      "cell_type": "code",
      "execution_count": 43,
      "metadata": {
        "id": "K_eMR23aBm0F",
        "outputId": "138ab1cc-e965-45db-b35b-11d000a9e52a",
        "colab": {
          "base_uri": "https://localhost:8080/"
        }
      },
      "outputs": [
        {
          "output_type": "execute_result",
          "data": {
            "text/plain": [
              "['apple', 'banana', 'carrot', 'mango']"
            ]
          },
          "metadata": {},
          "execution_count": 43
        }
      ],
      "source": [
        "shoplist_sorted"
      ]
    },
    {
      "cell_type": "code",
      "execution_count": 44,
      "metadata": {
        "id": "5c1BtFjFBm0G",
        "outputId": "ec71afc1-8cbc-4bb7-b379-73bab71e1ef9",
        "colab": {
          "base_uri": "https://localhost:8080/"
        }
      },
      "outputs": [
        {
          "output_type": "execute_result",
          "data": {
            "text/plain": [
              "['apple', 'mango', 'carrot', 'banana']"
            ]
          },
          "metadata": {},
          "execution_count": 44
        }
      ],
      "source": [
        "shoplist"
      ]
    },
    {
      "cell_type": "markdown",
      "metadata": {
        "id": "gmabEBPqBm0H"
      },
      "source": [
        "There are two frequently-used string methods that convert between lists and strings:\n",
        "\n",
        "First, **split()** methods is used to break a string into words:"
      ]
    },
    {
      "cell_type": "code",
      "execution_count": 45,
      "metadata": {
        "id": "NToLD-lOBm0I",
        "outputId": "8d070ff5-7ef9-4b1b-a732-a64f11388515",
        "colab": {
          "base_uri": "https://localhost:8080/"
        }
      },
      "outputs": [
        {
          "output_type": "execute_result",
          "data": {
            "text/plain": [
              "['I', 'love', 'apples']"
            ]
          },
          "metadata": {},
          "execution_count": 45
        }
      ],
      "source": [
        "s = 'I love apples'\n",
        "s.split(' ')"
      ]
    },
    {
      "cell_type": "code",
      "execution_count": 46,
      "metadata": {
        "id": "1uH4tlgdBm0J",
        "outputId": "1e00a412-3465-498f-e497-55501d4c4f90",
        "colab": {
          "base_uri": "https://localhost:8080/"
        }
      },
      "outputs": [
        {
          "output_type": "execute_result",
          "data": {
            "text/plain": [
              "['spam', 'spam', 'spam']"
            ]
          },
          "metadata": {},
          "execution_count": 46
        }
      ],
      "source": [
        "s = 'spam-spam-spam'\n",
        "# A delimiter '-' is specified here. It is used as word boundary\n",
        "s.split('-')"
      ]
    },
    {
      "cell_type": "markdown",
      "metadata": {
        "id": "XUuTMK7tBm0K"
      },
      "source": [
        "Second, **join()** is the inverse of **split**. It takes a list of strings and concatenates the elements."
      ]
    },
    {
      "cell_type": "code",
      "execution_count": 47,
      "metadata": {
        "id": "HKZrUhUzBm0K",
        "outputId": "d5c7d00c-2ffd-4565-85f3-576bff1a31c6",
        "colab": {
          "base_uri": "https://localhost:8080/",
          "height": 35
        }
      },
      "outputs": [
        {
          "output_type": "execute_result",
          "data": {
            "text/plain": [
              "'I love apples'"
            ],
            "application/vnd.google.colaboratory.intrinsic+json": {
              "type": "string"
            }
          },
          "metadata": {},
          "execution_count": 47
        }
      ],
      "source": [
        "l = ['I', 'love', 'apples']\n",
        "s = ' '.join(l)\n",
        "s"
      ]
    },
    {
      "cell_type": "markdown",
      "metadata": {
        "id": "qFbGRFyoBm0M"
      },
      "source": [
        "How it works:\n",
        "\n",
        "Since **join** is a string method, you have to invoke it on the *delimiter*. In this case, the delimiter is a space character. So **' '.join()** puts a space between words. The list **l** is passed to **join()** as parameter.\n",
        "\n",
        "For more information on list methods, type \"help(list)\" in your notebook."
      ]
    },
    {
      "cell_type": "markdown",
      "metadata": {
        "id": "dOaAysQyBm0M"
      },
      "source": [
        "**Traverse a list**\n",
        "\n",
        "The most common way to traverse the items of a list is with a **for** loop. Try the following code:"
      ]
    },
    {
      "cell_type": "code",
      "execution_count": 48,
      "metadata": {
        "id": "2pUz_BuABm0M",
        "outputId": "c3b2b184-4e43-47bf-d4bf-e9d9d2a4f586",
        "colab": {
          "base_uri": "https://localhost:8080/"
        }
      },
      "outputs": [
        {
          "output_type": "stream",
          "name": "stdout",
          "text": [
            "apple\n",
            "mango\n",
            "carrot\n",
            "banana\n"
          ]
        }
      ],
      "source": [
        "shoplist = ['apple', 'mango', 'carrot', 'banana']\n",
        "for item in shoplist:\n",
        "    print(item)"
      ]
    },
    {
      "cell_type": "markdown",
      "metadata": {
        "id": "BdoviXGwBm0N"
      },
      "source": [
        "This works well if you only need to read the items of the list. However, you will need to use indices if you want to update the elements. In this case, you need to combine the function **range()** and **len()**.  "
      ]
    },
    {
      "cell_type": "code",
      "execution_count": 49,
      "metadata": {
        "id": "Hw-LhzXhBm0P",
        "outputId": "3ecd6512-08bf-410d-f140-b77349210e58",
        "colab": {
          "base_uri": "https://localhost:8080/"
        }
      },
      "outputs": [
        {
          "output_type": "stream",
          "name": "stdout",
          "text": [
            "[4, 6, 10, 14]\n"
          ]
        }
      ],
      "source": [
        "l = [2, 3, 5, 7]\n",
        "\n",
        "for i in range(len(l)):\n",
        "       l[i] = l[i] * 2\n",
        "\n",
        "print(l)"
      ]
    },
    {
      "cell_type": "markdown",
      "metadata": {
        "id": "6i0u44sWBm0Q"
      },
      "source": [
        "How it works:\n",
        "\n",
        "**len()** returns the number of items in the list, while **range(n)** returns a list from 0 to n - 1. By combining function **len()** and **range()**, **i** gets the index of the next element in each pass through the loop. The assignment statement then uses **i** to perform the operation."
      ]
    },
    {
      "cell_type": "markdown",
      "metadata": {
        "id": "PQIrW0NjBm0Q"
      },
      "source": [
        "<a id = \"cell_tuple\"></a>"
      ]
    },
    {
      "cell_type": "markdown",
      "metadata": {
        "id": "kBsd3dhuBm0Q"
      },
      "source": [
        "### 3.2 Tuple\n",
        "\n",
        "**Tuple are immutable **\n",
        "\n",
        "A **tuple** is also a sequence of values, and can be any type. Tuples and lists are very similar. The important difference is that tuples are immutable, which means they can not be changed.\n",
        "\n",
        "Tuples is typically used to group and organizing data into a single compound value.  For example,"
      ]
    },
    {
      "cell_type": "code",
      "execution_count": 50,
      "metadata": {
        "id": "wyr771UWBm0R",
        "outputId": "1d87216c-011a-47e0-fe65-1ea1b5d4a539",
        "colab": {
          "base_uri": "https://localhost:8080/"
        }
      },
      "outputs": [
        {
          "output_type": "execute_result",
          "data": {
            "text/plain": [
              "('David Hilton', 1995)"
            ]
          },
          "metadata": {},
          "execution_count": 50
        }
      ],
      "source": [
        "year_born =  ('David Hilton', 1995)\n",
        "year_born"
      ]
    },
    {
      "cell_type": "markdown",
      "metadata": {
        "id": "jS2uoyGvBm0S"
      },
      "source": [
        "To define a tuple, we use a list of values separated by comma.\n",
        "Although it is not necessary, it is common to enclose tuples in parentheses.\n",
        "\n",
        "Most list operators also work on tuples.\n",
        "The bracket operator indexes an item of tuples, and the slice operator works in similar way.\n",
        "\n",
        "Here is how to define a tuple:"
      ]
    },
    {
      "cell_type": "code",
      "execution_count": 51,
      "metadata": {
        "id": "sSoZ9rIGBm0S",
        "outputId": "6c3609fe-4be4-4088-ba63-09c6eda0138e",
        "colab": {
          "base_uri": "https://localhost:8080/"
        }
      },
      "outputs": [
        {
          "output_type": "execute_result",
          "data": {
            "text/plain": [
              "()"
            ]
          },
          "metadata": {},
          "execution_count": 51
        }
      ],
      "source": [
        "t  = ( ) # Empty tuple\n",
        "t"
      ]
    },
    {
      "cell_type": "code",
      "execution_count": 52,
      "metadata": {
        "id": "YFukci9YBm0T",
        "outputId": "e8c66a75-148c-45b7-d523-c26a3bd66473",
        "colab": {
          "base_uri": "https://localhost:8080/"
        }
      },
      "outputs": [
        {
          "output_type": "execute_result",
          "data": {
            "text/plain": [
              "int"
            ]
          },
          "metadata": {},
          "execution_count": 52
        }
      ],
      "source": [
        "t = (1)\n",
        "type(t)  # Its type is int, since no comma is following"
      ]
    },
    {
      "cell_type": "code",
      "execution_count": 53,
      "metadata": {
        "id": "DCYLnFmxBm0U",
        "outputId": "13e3899d-1bee-45ac-8d7f-7c397a64de1a",
        "colab": {
          "base_uri": "https://localhost:8080/"
        }
      },
      "outputs": [
        {
          "output_type": "execute_result",
          "data": {
            "text/plain": [
              "tuple"
            ]
          },
          "metadata": {},
          "execution_count": 53
        }
      ],
      "source": [
        "t = (1,)  # One item tuple; the item needs to be followed by a comma\n",
        "type(t)"
      ]
    },
    {
      "cell_type": "markdown",
      "metadata": {
        "id": "JL76QtuYBm0V"
      },
      "source": [
        "Here is how to access elements of a tuple:"
      ]
    },
    {
      "cell_type": "code",
      "execution_count": 54,
      "metadata": {
        "id": "Tz1NCxjyBm0W"
      },
      "outputs": [],
      "source": [
        "t = ('a', 'b', 'c', 'd')"
      ]
    },
    {
      "cell_type": "code",
      "execution_count": 55,
      "metadata": {
        "id": "2iTzh6wwBm0Y",
        "outputId": "2dc48adc-b01a-42b7-ee7e-638fb0dc66c7",
        "colab": {
          "base_uri": "https://localhost:8080/",
          "height": 35
        }
      },
      "outputs": [
        {
          "output_type": "execute_result",
          "data": {
            "text/plain": [
              "'a'"
            ],
            "application/vnd.google.colaboratory.intrinsic+json": {
              "type": "string"
            }
          },
          "metadata": {},
          "execution_count": 55
        }
      ],
      "source": [
        "t[0]"
      ]
    },
    {
      "cell_type": "code",
      "execution_count": 56,
      "metadata": {
        "id": "PlIiJg52Bm0Z",
        "outputId": "13e60a79-7ff6-4d1b-9976-8e5679500599",
        "colab": {
          "base_uri": "https://localhost:8080/"
        }
      },
      "outputs": [
        {
          "output_type": "execute_result",
          "data": {
            "text/plain": [
              "('b', 'c')"
            ]
          },
          "metadata": {},
          "execution_count": 56
        }
      ],
      "source": [
        "t[1:3]"
      ]
    },
    {
      "cell_type": "markdown",
      "metadata": {
        "id": "35hOHu21Bm0a"
      },
      "source": [
        "But if you try to modify the elements of the tuple, you get an error."
      ]
    },
    {
      "cell_type": "code",
      "execution_count": 57,
      "metadata": {
        "id": "_r_paxZnBm0b",
        "outputId": "0f7247f1-41ed-4e6a-aa20-c8dd6b2add23",
        "colab": {
          "base_uri": "https://localhost:8080/",
          "height": 159
        }
      },
      "outputs": [
        {
          "output_type": "error",
          "ename": "TypeError",
          "evalue": "'tuple' object does not support item assignment",
          "traceback": [
            "\u001b[0;31m---------------------------------------------------------------------------\u001b[0m",
            "\u001b[0;31mTypeError\u001b[0m                                 Traceback (most recent call last)",
            "\u001b[0;32m/tmp/ipython-input-3817614828.py\u001b[0m in \u001b[0;36m<cell line: 0>\u001b[0;34m()\u001b[0m\n\u001b[1;32m      1\u001b[0m \u001b[0mt\u001b[0m \u001b[0;34m=\u001b[0m \u001b[0;34m(\u001b[0m\u001b[0;34m'a'\u001b[0m\u001b[0;34m,\u001b[0m \u001b[0;34m'b'\u001b[0m\u001b[0;34m,\u001b[0m \u001b[0;34m'c'\u001b[0m\u001b[0;34m,\u001b[0m \u001b[0;34m'd'\u001b[0m\u001b[0;34m)\u001b[0m\u001b[0;34m\u001b[0m\u001b[0;34m\u001b[0m\u001b[0m\n\u001b[0;32m----> 2\u001b[0;31m \u001b[0mt\u001b[0m\u001b[0;34m[\u001b[0m\u001b[0;36m1\u001b[0m\u001b[0;34m]\u001b[0m \u001b[0;34m=\u001b[0m \u001b[0;34m'B'\u001b[0m\u001b[0;34m\u001b[0m\u001b[0;34m\u001b[0m\u001b[0m\n\u001b[0m",
            "\u001b[0;31mTypeError\u001b[0m: 'tuple' object does not support item assignment"
          ]
        }
      ],
      "source": [
        "t = ('a', 'b', 'c', 'd')\n",
        "t[1] = 'B'"
      ]
    },
    {
      "cell_type": "markdown",
      "metadata": {
        "id": "Posmxo-aBm0c"
      },
      "source": [
        "### Tuple assignment\n",
        "\n",
        "Tuple assignment allows a tuple of variables on the left of an assignment to be assigned values from  a tuple on the right of the assignment.\n",
        "(We already saw this type of statements in the previous prac)\n",
        "\n",
        "For example,\n"
      ]
    },
    {
      "cell_type": "code",
      "execution_count": 58,
      "metadata": {
        "id": "ChvTjx6qBm0d"
      },
      "outputs": [],
      "source": [
        "t = ('David', '0233', 78)\n",
        "(name, id, score) = t"
      ]
    },
    {
      "cell_type": "code",
      "execution_count": 59,
      "metadata": {
        "id": "-WDeVp8MBm0e",
        "outputId": "b77a2745-8c26-40da-cd4d-4a753046dd17",
        "colab": {
          "base_uri": "https://localhost:8080/",
          "height": 35
        }
      },
      "outputs": [
        {
          "output_type": "execute_result",
          "data": {
            "text/plain": [
              "'David'"
            ],
            "application/vnd.google.colaboratory.intrinsic+json": {
              "type": "string"
            }
          },
          "metadata": {},
          "execution_count": 59
        }
      ],
      "source": [
        "name"
      ]
    },
    {
      "cell_type": "code",
      "execution_count": 60,
      "metadata": {
        "id": "L4Ey2gDYBm0g",
        "outputId": "c27e1df9-d3a3-4592-a605-a98452cabc70",
        "colab": {
          "base_uri": "https://localhost:8080/",
          "height": 35
        }
      },
      "outputs": [
        {
          "output_type": "execute_result",
          "data": {
            "text/plain": [
              "'0233'"
            ],
            "application/vnd.google.colaboratory.intrinsic+json": {
              "type": "string"
            }
          },
          "metadata": {},
          "execution_count": 60
        }
      ],
      "source": [
        "id"
      ]
    },
    {
      "cell_type": "code",
      "execution_count": 61,
      "metadata": {
        "id": "v6i5qFp7Bm0h",
        "outputId": "401e85d5-c117-49e1-ea01-90f065620be1",
        "colab": {
          "base_uri": "https://localhost:8080/"
        }
      },
      "outputs": [
        {
          "output_type": "execute_result",
          "data": {
            "text/plain": [
              "78"
            ]
          },
          "metadata": {},
          "execution_count": 61
        }
      ],
      "source": [
        "score"
      ]
    },
    {
      "cell_type": "markdown",
      "metadata": {
        "id": "aYAZYDZ3Bm0i"
      },
      "source": [
        "Naturally, the number of variables on the left and the number of values on the right have to be the same.Otherwise, you will have a system error."
      ]
    },
    {
      "cell_type": "code",
      "execution_count": 62,
      "metadata": {
        "id": "CZWKRkeZBm0j",
        "outputId": "6d3005b8-101f-43a7-d6ef-dfd437c42f8b",
        "colab": {
          "base_uri": "https://localhost:8080/",
          "height": 141
        }
      },
      "outputs": [
        {
          "output_type": "error",
          "ename": "ValueError",
          "evalue": "not enough values to unpack (expected 4, got 3)",
          "traceback": [
            "\u001b[0;31m---------------------------------------------------------------------------\u001b[0m",
            "\u001b[0;31mValueError\u001b[0m                                Traceback (most recent call last)",
            "\u001b[0;32m/tmp/ipython-input-2853210643.py\u001b[0m in \u001b[0;36m<cell line: 0>\u001b[0;34m()\u001b[0m\n\u001b[0;32m----> 1\u001b[0;31m \u001b[0;34m(\u001b[0m\u001b[0ma\u001b[0m\u001b[0;34m,\u001b[0m \u001b[0mb\u001b[0m\u001b[0;34m,\u001b[0m \u001b[0mc\u001b[0m\u001b[0;34m,\u001b[0m \u001b[0md\u001b[0m\u001b[0;34m)\u001b[0m \u001b[0;34m=\u001b[0m \u001b[0;34m(\u001b[0m\u001b[0;36m1\u001b[0m\u001b[0;34m,\u001b[0m \u001b[0;36m2\u001b[0m\u001b[0;34m,\u001b[0m \u001b[0;36m3\u001b[0m\u001b[0;34m)\u001b[0m\u001b[0;34m\u001b[0m\u001b[0;34m\u001b[0m\u001b[0m\n\u001b[0m",
            "\u001b[0;31mValueError\u001b[0m: not enough values to unpack (expected 4, got 3)"
          ]
        }
      ],
      "source": [
        "(a, b, c, d) = (1, 2, 3)\n"
      ]
    },
    {
      "cell_type": "markdown",
      "metadata": {
        "id": "svAgKRIMBm0l"
      },
      "source": [
        "### Lists and tuples\n",
        "\n",
        "It is common to have a list of tuples. For loop can be used to traverse the data.  For example,"
      ]
    },
    {
      "cell_type": "code",
      "execution_count": 63,
      "metadata": {
        "id": "erQ7rITYBm0l",
        "outputId": "a52da1fe-597e-446a-a250-77d6a9e98e15",
        "colab": {
          "base_uri": "https://localhost:8080/"
        }
      },
      "outputs": [
        {
          "output_type": "stream",
          "name": "stdout",
          "text": [
            "David 90\n",
            "John 88\n",
            "James 70\n"
          ]
        }
      ],
      "source": [
        "t = [('David', 90), ('John', 88), ('James', 70)]\n",
        "\n",
        "for (name, score) in t:\n",
        "       print(name, score)"
      ]
    },
    {
      "cell_type": "markdown",
      "metadata": {
        "id": "0N9Ozh__Bm0m"
      },
      "source": [
        "<a id = \"cell_dict\"></a>"
      ]
    },
    {
      "cell_type": "markdown",
      "metadata": {
        "id": "P7Te1xa1Bm0o"
      },
      "source": [
        "### 3 Dictionary\n",
        "\n",
        "A **dictionary** is like an address-book where you can find the address or contact details of a person by knowing only his/her name. The way of achieving this is to associate **keys**(names) with **values**(details). Note that the key in a dictionary must be unique. Otherwise we are not able to locate correct information through the key.\n",
        "\n",
        "Also worth noted is that we can only use immutable objects(strings, tuples) for the keys, but we can use either immutable or mutable objects for the values of the dictionary. This means  we can use either a string, a tuple or a list  for dictionary values.\n",
        "\n",
        "The following example defines a dictionary:"
      ]
    },
    {
      "cell_type": "code",
      "execution_count": 64,
      "metadata": {
        "id": "uclLe92SBm0o",
        "outputId": "2db8fdda-ccdb-41b0-b2a2-22548c76e8b1",
        "colab": {
          "base_uri": "https://localhost:8080/"
        }
      },
      "outputs": [
        {
          "output_type": "execute_result",
          "data": {
            "text/plain": [
              "{'David': 70, 'John': 60, 'Mike': 85, 'Anne': 92}"
            ]
          },
          "metadata": {},
          "execution_count": 64
        }
      ],
      "source": [
        "dict = {'David': 70, 'John': 60, 'Mike': 85}\n",
        "dict['David']\n",
        "dict['Anne'] = 92  # add an new item in the dictionary\n",
        "dict"
      ]
    },
    {
      "cell_type": "markdown",
      "metadata": {
        "id": "oLay_eiFBm0q"
      },
      "source": [
        "**Traverse a dictionary**\n",
        "\n",
        "The key-value pairs in a dictionary are **not** ordered in any manner. The following example uses **for** loop to traversal a dictionary. Notice that the keys are in no particular order."
      ]
    },
    {
      "cell_type": "code",
      "execution_count": 65,
      "metadata": {
        "id": "QKfMs36lBm0t",
        "outputId": "516b1a1f-4a7f-41c9-b432-3b4ec8bad96b",
        "colab": {
          "base_uri": "https://localhost:8080/"
        }
      },
      "outputs": [
        {
          "output_type": "stream",
          "name": "stdout",
          "text": [
            "David 70\n",
            "John 60\n",
            "Amy 85\n"
          ]
        }
      ],
      "source": [
        "dict = {'David': 70, 'John': 60, 'Amy': 85}\n",
        "\n",
        "for key in dict:\n",
        "    print(key, dict[key])"
      ]
    },
    {
      "cell_type": "markdown",
      "metadata": {
        "id": "vLKSyg5OBm0u"
      },
      "source": [
        "However, we can sort the keys of dictionary before using it if necessary. The following example sorts the keys and stored the result in a list **sortedKey**. The **for** loop then iterates through list **sortedKey**. The items in the dictionary can then be accessed via the names in alphabetical order. Note that dictionary's **keys()** method is used to return a list of all the available keys in the dictionary."
      ]
    },
    {
      "cell_type": "code",
      "execution_count": 66,
      "metadata": {
        "id": "hLZi1CgdBm0u",
        "outputId": "05484e65-0250-4105-8a3f-74ce490633d5",
        "colab": {
          "base_uri": "https://localhost:8080/"
        }
      },
      "outputs": [
        {
          "output_type": "stream",
          "name": "stdout",
          "text": [
            "Amy 85\n",
            "David 70\n",
            "John 60\n"
          ]
        }
      ],
      "source": [
        "dict = {'David': 70, 'John': 60, 'Amy': 85}\n",
        "sortedKeys = sorted(dict.keys())\n",
        "\n",
        "for key in sortedKeys:\n",
        "    print(key, dict[key])\n"
      ]
    }
  ],
  "metadata": {
    "colab": {
      "collapsed_sections": [
        "kBsd3dhuBm0Q",
        "Posmxo-aBm0c",
        "svAgKRIMBm0l",
        "P7Te1xa1Bm0o"
      ],
      "provenance": [],
      "toc_visible": true
    },
    "kernelspec": {
      "display_name": "Python 3",
      "language": "python",
      "name": "python3"
    },
    "language_info": {
      "codemirror_mode": {
        "name": "ipython",
        "version": 3
      },
      "file_extension": ".py",
      "mimetype": "text/x-python",
      "name": "python",
      "nbconvert_exporter": "python",
      "pygments_lexer": "ipython3",
      "version": "3.6.4"
    }
  },
  "nbformat": 4,
  "nbformat_minor": 0
}