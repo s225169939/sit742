{
  "cells": [
    {
      "cell_type": "markdown",
      "metadata": {
        "id": "FtcmYWJc-FBb"
      },
      "source": [
        "![Cloud-First](https://github.com/tulip-lab/sit742/blob/main/Jupyter/image/CloudFirst.png?raw=1)\n",
        "\n",
        "\n",
        "\n",
        "# SIT742: Modern Data Science\n",
        "**(Module: Python Foundations for Big Data)**\n",
        "\n",
        "---\n",
        "- Materials in this module include resources collected from various open-source online repositories.\n",
        "- You are free to use, change and distribute this package.\n",
        "- If you found any issue/bug for this document, please submit an issue at [tulip-lab/sit742](https://github.com/tulip-lab/sit742/issues)\n",
        "\n",
        "\n",
        "Prepared by **SIT742 Teaching Team**\n",
        "\n",
        "---\n",
        "\n",
        "\n",
        "## Session 2H: Python Packages\n",
        "\n",
        "In this session, we will learn how to use Python Packages to manipulate the data and files."
      ]
    },
    {
      "cell_type": "markdown",
      "metadata": {
        "id": "Fb5TqlLE-FBo"
      },
      "source": [
        "## Content\n",
        "\n",
        "\n",
        "\n",
        "### Part 1 Python packages\n",
        "\n",
        "1.1 [Standard Library](#standlib)\n",
        "\n",
        "1.2 [Third Party Packages](#3rdparty)\n",
        "\n",
        "1.3 [Importing a module](#importmod)\n",
        "\n",
        "\n",
        "### Part 2 Python Simple IO\n",
        "\n",
        "2.1 [Input](#input)\n",
        "\n",
        "2.2 [Output](#output)\n",
        "\n",
        "\n",
        "### Part 3 Datetime Module\n",
        "\n",
        "3.1 [Time](#time)\n",
        "\n",
        "3.2 [Date](#date)\n",
        "\n",
        "3.3 [Timedelta](#timedelta)\n",
        "\n",
        "3.4 [Formatting and Parsing](#parsing)\n",
        "\n"
      ]
    },
    {
      "cell_type": "markdown",
      "metadata": {
        "id": "nDEk8Gqz-FBx"
      },
      "source": [
        "---\n",
        "## <span style=\"color:#0b486b\">1. Python packages</span>"
      ]
    },
    {
      "cell_type": "markdown",
      "metadata": {
        "id": "ybgB1hro-FB2"
      },
      "source": [
        "After completing previous Python sessions, you should know about the syntax and semantics of the Python language. But apart from that, you should also learn about Python libraries and its packages to be able to code efficiently. Python’s standard library is very extensive, offering a wide range of facilities as indicated [here](https://docs.python.org/3/library/). The library contains built-in modules (written in C) that provide access to system functionality such as file I/O that would otherwise be inaccessible to Python programmers, as well as modules written in Python that provide standardized solutions for many problems that occur in everyday programming. Look at the [Python Standard Library Manual](https://docs.python.org/3/library/) to read more.\n",
        "\n",
        "In addition to the standard library, there is a growing collection of several thousand components (from individual programs and modules to packages and entire application development frameworks), available from the [Python Package Index](https://pypi.org)."
      ]
    },
    {
      "cell_type": "markdown",
      "metadata": {
        "id": "Ws56RKhy-FB7"
      },
      "source": [
        "<a id = \"standlib\"></a>\n",
        "\n",
        "### <span style=\"color:#0b486b\">1.1 Standard libraries</span>"
      ]
    },
    {
      "cell_type": "markdown",
      "metadata": {
        "id": "YLU8yilr-FCa"
      },
      "source": [
        "For a complete list of Python standard library and their documentation look at the [Python Manual.](https://docs.python.org/2/library/) A few to mention are:\n",
        "\n",
        "* ``math`` for numeric and math-related functions and data types\n",
        "* ``urllib`` for fetching data across the web\n",
        "* ``datetime`` for manipulating dates and times\n",
        "* ``pickle`` and ``cPickle`` for serializing and deserializing data structures enabling us to save our variables on the disk and load them from the disk\n",
        "* ``os`` for operating system dependent functions"
      ]
    },
    {
      "cell_type": "markdown",
      "metadata": {
        "id": "D0gTVNG3-FCd"
      },
      "source": [
        "<a id = \"3rdparty\"></a>\n",
        "\n",
        "### <span style=\"color:#0b486b\">1.2 Third party packages</span>"
      ]
    },
    {
      "cell_type": "markdown",
      "metadata": {
        "id": "G_FHaLGL-FCh"
      },
      "source": [
        "There are thousands of third party packages, each developed for a special task. Some of the useful libraries for data science are:\n",
        "\n",
        "* ``numpy`` is probably the most fundamental package for efficient scientific computing in Python\n",
        "* ``scipy`` is one of the core packages for scientific computations\n",
        "* ``pandas`` is a library for operating with table-like data structures called DataFrame object\n",
        "* ``matplotlib`` is a comprehensive plotting library\n",
        "* ``BeautifulSoup`` is an HTML and XML parser\n",
        "* ``scikit-learn`` is the most general machine learning library for Python\n",
        "* ``nltk`` is a toolkit for natural language processing"
      ]
    },
    {
      "cell_type": "markdown",
      "metadata": {
        "id": "n9-8E657-FCs"
      },
      "source": [
        "---\n",
        "<a id = \"importmod\"></a>\n",
        "### <span style=\"color:#0b486b\">1.3 Importing a module</span>"
      ]
    },
    {
      "cell_type": "markdown",
      "metadata": {
        "id": "dDvdJbCz-FCv"
      },
      "source": [
        "To use a module, first you have to ``import`` it. There are different ways to import a module:\n",
        "\n",
        "* `import my_module`\n",
        "* `from my_module import my_function`\n",
        "* `from my_module import my_function as func`\n",
        "* `from my_module import submodule`\n",
        "* `from my_module import submodule as sub`\n",
        "* `from my_module import *`"
      ]
    },
    {
      "cell_type": "markdown",
      "metadata": {
        "id": "-ZAPHJav-FCz"
      },
      "source": [
        "**`'import my_module'`** imports the module `'my_module'` and creates a reference to it in the namespace. For example `'import math'` imports the module `'math'` into the namespace. After importing the module this way, you can use the dot operator `(.)` to refer to the objects defined in the module. For example `'math.exp()'` refers to function `'exp()'` in module `'math'`."
      ]
    },
    {
      "cell_type": "code",
      "execution_count": 1,
      "metadata": {
        "colab": {
          "base_uri": "https://localhost:8080/"
        },
        "id": "f40P8yu7-FC3",
        "outputId": "45b67354-f07a-4799-fbff-7c6813402ac6"
      },
      "outputs": [
        {
          "output_type": "stream",
          "name": "stdout",
          "text": [
            "e^2 is 7.38905609893065 and log(2) is 0.6931471805599453\n"
          ]
        }
      ],
      "source": [
        "import math\n",
        "\n",
        "x = 2\n",
        "y1 = math.exp(x)\n",
        "y2 = math.log(x)\n",
        "\n",
        "print(\"e^{} is {} and log({}) is {}\".format(x, y1, x, y2))"
      ]
    },
    {
      "cell_type": "markdown",
      "metadata": {
        "id": "umlFNTcm-FDG"
      },
      "source": [
        "**`'from my_module import my_function'`** only imports the function `'my_function'` from the module `'my_module'` into the namespace. This way you won't have access to neither the module (since you have not imported the module), nor the other objects of the module. You can only have access to the object you have imported.\n",
        "\n",
        "You can use a comma to import multiple objects."
      ]
    },
    {
      "cell_type": "code",
      "execution_count": 2,
      "metadata": {
        "colab": {
          "base_uri": "https://localhost:8080/"
        },
        "id": "S68L0h56-FDK",
        "outputId": "628fa5ab-8e42-455f-d180-5ce4d8681542"
      },
      "outputs": [
        {
          "output_type": "stream",
          "name": "stdout",
          "text": [
            "e^2 is 7.38905609893065\n"
          ]
        }
      ],
      "source": [
        "from math import exp\n",
        "\n",
        "x = 2\n",
        "y = exp(x)  # no need to math.exp()\n",
        "\n",
        "print(\"e^{} is {}\".format(x, y))"
      ]
    },
    {
      "cell_type": "markdown",
      "metadata": {
        "id": "O7OwKRz0-FDV"
      },
      "source": [
        "**`'from my_module import my_function as func'`** imports the function `'my_function'` from module `'my_module'` but its identifier in the namespace is changed into `'func'`. This syntax is used to import submodules of a module as well. For example later you will see that nowadays it is almost a convention to import matplotlib.pyplot as plt."
      ]
    },
    {
      "cell_type": "code",
      "execution_count": 3,
      "metadata": {
        "colab": {
          "base_uri": "https://localhost:8080/"
        },
        "id": "PkemZT1l-FDY",
        "outputId": "85a0d950-db79-4567-8881-74f0a074a8f8"
      },
      "outputs": [
        {
          "output_type": "stream",
          "name": "stdout",
          "text": [
            "e^2 is 7.38905609893065\n"
          ]
        }
      ],
      "source": [
        "# you can change the name of the imported object\n",
        "from math import exp as myfun\n",
        "\n",
        "x = 2\n",
        "y = myfun(x)\n",
        "\n",
        "print(\"e^{} is {}\".format(x, y))"
      ]
    },
    {
      "cell_type": "markdown",
      "metadata": {
        "id": "yPV8jMzF-FDj"
      },
      "source": [
        "**`'from my_module import *'`** imports all the public objects defined in `'my_module'` into the namespace. Therefore after this statement you can simply use the plain name of the object to refer to it and there is no need to use the dot operator:"
      ]
    },
    {
      "cell_type": "code",
      "execution_count": 4,
      "metadata": {
        "colab": {
          "base_uri": "https://localhost:8080/"
        },
        "id": "RRWQj8n9-FDq",
        "outputId": "0b463dd5-291f-47b3-c252-dfe002955f27"
      },
      "outputs": [
        {
          "output_type": "stream",
          "name": "stdout",
          "text": [
            "e^2 is 7.38905609893065 and log(2) is 0.6931471805599453\n"
          ]
        }
      ],
      "source": [
        "from math import *\n",
        "\n",
        "x = 2\n",
        "y1 = exp(x)\n",
        "y2 = log(x)\n",
        "\n",
        "print(\"e^{} is {} and log({}) is {}\".format(x, y1, x, y2))"
      ]
    },
    {
      "cell_type": "markdown",
      "metadata": {
        "id": "jFyAzGPm-FD0"
      },
      "source": [
        "**Exercise 1:**\n",
        "\n",
        "1. Import the library `math` from standard Python libraries\n",
        "2. Define a variable and assign an integer value to it (smaller than 20)\n",
        "3. Use `factorial()` function (an object in `math` library) to calculate the factorial of the variable\n",
        "4. Print its value"
      ]
    },
    {
      "cell_type": "code",
      "execution_count": 10,
      "metadata": {
        "colab": {
          "base_uri": "https://localhost:8080/"
        },
        "id": "69FyXRpt-FD3",
        "outputId": "35c53b2b-5501-4a77-fb8c-a2b056169058"
      },
      "outputs": [
        {
          "output_type": "stream",
          "name": "stdout",
          "text": [
            "24\n"
          ]
        }
      ],
      "source": [
        "import math\n",
        "\n",
        "var1 = 4\n",
        "\n",
        "varfact = math.factorial(var1)\n",
        "\n",
        "print(varfact)"
      ]
    },
    {
      "cell_type": "markdown",
      "metadata": {
        "id": "1F2W0yVs1Zej"
      },
      "source": [
        "<details><summary><u><b><font color=\"Blue\">Click here for the solution to Exercise 1</font></b></u></summary>\n",
        "\n",
        "```python\n",
        "    import math\n",
        "    n = 10\n",
        "    # factorial means that the result when you multiply a whole number by all the numbers below it\n",
        "    # Hence, factorial(n) = n * (n-1) * (n-2) * ...... * 1\n",
        "    print(math.factorial(n))   \n",
        "```\n"
      ]
    },
    {
      "cell_type": "markdown",
      "metadata": {
        "id": "C-TbbbaO-FEA"
      },
      "source": [
        "**Exercise 2:**\n",
        "\n",
        "1. Write a function that takes an integer variable and returns its factorial.\n",
        "2. Use this function to find the factorial of the variable defined in Exercise 1\n",
        "3. Do your answers match?"
      ]
    },
    {
      "cell_type": "code",
      "execution_count": 9,
      "metadata": {
        "colab": {
          "base_uri": "https://localhost:8080/"
        },
        "id": "wrVdMU_u-FEC",
        "outputId": "6f6512d4-241d-4caa-a88f-dd5d75be74f4"
      },
      "outputs": [
        {
          "output_type": "stream",
          "name": "stdout",
          "text": [
            "24\n"
          ]
        }
      ],
      "source": [
        "def my_factorial(n):\n",
        "    if n==1:\n",
        "        return 1\n",
        "    else:\n",
        "        return n * my_factorial(n-1)\n",
        "print(my_factorial(4))"
      ]
    },
    {
      "cell_type": "markdown",
      "metadata": {
        "id": "eQXtvPYIn0Ss"
      },
      "source": [
        "<details><summary><u><b><font color=\"Blue\">Click here for the solution to Exercise 2</font></b></u></summary>\n",
        "\n",
        "```python\n",
        "def my_factorial(n):\n",
        "    if n==1:\n",
        "        return 1\n",
        "    else:\n",
        "        return n * my_factorial(n-1)    \n",
        "print(my_factorial(10))\n",
        "```"
      ]
    },
    {
      "cell_type": "markdown",
      "metadata": {
        "id": "Y9wByq5c-FEM"
      },
      "source": [
        "---\n",
        "\n",
        "## <span style=\"color:#0b486b\">2. Python simple input/output</span>\n",
        "\n",
        "<a id = \"input\"></a>\n",
        "\n",
        "### <span style=\"color:#0b486b\">2.1 Input</span>\n",
        "\n",
        "`input()` asks the user for a string of data (ended with a newline), and simply returns the string."
      ]
    },
    {
      "cell_type": "code",
      "execution_count": 11,
      "metadata": {
        "colab": {
          "base_uri": "https://localhost:8080/"
        },
        "id": "TPVPb_62-FEO",
        "outputId": "fa96fed0-cc6c-4d9d-8646-8f0b6ab9cb8c"
      },
      "outputs": [
        {
          "output_type": "stream",
          "name": "stdout",
          "text": [
            "What is your name? Arun\n",
            "x is <class 'str'>\n",
            "Your name is Arun\n"
          ]
        }
      ],
      "source": [
        "x = input('What is your name? ')\n",
        "\n",
        "print(\"x is {}\".format(type(x)))\n",
        "print(\"Your name is {}\".format(x))"
      ]
    },
    {
      "cell_type": "markdown",
      "metadata": {
        "id": "Dq3-hh28-FEY"
      },
      "source": [
        "**Exercise 3:**\n",
        "\n",
        "1. Use `input()` to take a float value between -1 and 1 from the user\n",
        "2. Use the function `acos()` from `math` to find the arc cosine of it\n",
        "3. Print the value of the variable and its arc cosine"
      ]
    },
    {
      "cell_type": "code",
      "execution_count": 12,
      "metadata": {
        "colab": {
          "base_uri": "https://localhost:8080/"
        },
        "id": "I6C0rhxp-FEa",
        "outputId": "fb07d962-5664-41fa-9bc4-73729fa739c9"
      },
      "outputs": [
        {
          "output_type": "stream",
          "name": "stdout",
          "text": [
            "Enter a real number between -1 and 1: 0.16\n",
            "acos(0.16) = 1.410105673842986\n"
          ]
        }
      ],
      "source": [
        "x = input('Enter a real number between -1 and 1: ')\n",
        "y = math.acos(float(x))\n",
        "\n",
        "# acos function is used as the trigonometric function that is equal to the ratio of the side adjacent to an acute angle (in a right-angled triangle) to the hypotenuse.\n",
        "print('acos({}) = {}'.format(x,y))"
      ]
    },
    {
      "cell_type": "markdown",
      "metadata": {
        "id": "M3foK9h0ooKY"
      },
      "source": [
        "<details><summary><u><b><font color=\"Blue\">Click here for the solution to Exercise 3</font></b></u></summary>\n",
        "\n",
        "```python\n",
        "x = input('Enter a real number between -1 and 1: ')\n",
        "y = math.acos(float(x))\n",
        "# acos function is used as the trigonometric function that is equal to the ratio of the side adjacent to an acute angle (in a right-angled triangle) to the hypotenuse.\n",
        "print('acos({}) = {}'.format(x,y))\n",
        "```\n",
        "\n"
      ]
    },
    {
      "cell_type": "markdown",
      "metadata": {
        "id": "00UHlj58-FEj"
      },
      "source": [
        "As we know the domain of [arc cosine function][acos] is [-1, 1]. So, what if the value entered by the user is not in the domain (the value is smaller than -1 or greater that 1)? What happens then?\n",
        "\n",
        "To avoid raising a ValueError exception, before passing the value to `acos()` function make sure it is in range and if not, display an appropriate message.\n",
        "\n",
        "[acos]: http://mathworld.wolfram.com/InverseCosine.html"
      ]
    },
    {
      "cell_type": "code",
      "execution_count": 13,
      "metadata": {
        "colab": {
          "base_uri": "https://localhost:8080/"
        },
        "id": "bnDnPfOq-FEo",
        "outputId": "fece4a8f-12ed-4ecf-c2c3-9b150dddb58f"
      },
      "outputs": [
        {
          "output_type": "stream",
          "name": "stdout",
          "text": [
            "Enter a real number between -1 and 1: 0.16\n",
            "acos(0.16) = 1.410105673842986\n"
          ]
        }
      ],
      "source": [
        "# Add if-else statement on the exercise 3\n",
        "x = input('Enter a real number between -1 and 1: ')\n",
        "x = float(x)\n",
        "if x>=-1 and x<=1:\n",
        "    y = math.acos(x)\n",
        "    print('acos({}) = {}'.format(x,y))\n",
        "else:\n",
        "    print('Out of range')"
      ]
    },
    {
      "cell_type": "markdown",
      "metadata": {
        "id": "qXO1sN7o-FEw"
      },
      "source": [
        "<a id = \"output\"></a>\n",
        "\n",
        "### <span style=\"color:#0b486b\">2.2 output</span>"
      ]
    },
    {
      "cell_type": "markdown",
      "metadata": {
        "id": "Sb9kk_Uj-FE1"
      },
      "source": [
        "The basic way to do output is the print statement. To print multiple things on the same line separated by spaces, use commas between them."
      ]
    },
    {
      "cell_type": "code",
      "execution_count": 14,
      "metadata": {
        "colab": {
          "base_uri": "https://localhost:8080/"
        },
        "id": "CRTLNz8--FE4",
        "outputId": "fa41adfd-80e7-42c5-8db7-bc6f81334546"
      },
      "outputs": [
        {
          "output_type": "stream",
          "name": "stdout",
          "text": [
            "Hello\n",
            "Hello John\n"
          ]
        }
      ],
      "source": [
        "name = \"John\"\n",
        "msg = \"Hello\"\n",
        "\n",
        "print(msg)\n",
        "print(msg, name)"
      ]
    },
    {
      "cell_type": "markdown",
      "metadata": {
        "id": "DC3XfzpT-FFB"
      },
      "source": [
        "Objects can be printed on the same line using the 'end' arguments. You can read the [print()](https://docs.python.org/3/library/functions.html#print) syntax."
      ]
    },
    {
      "cell_type": "code",
      "execution_count": 15,
      "metadata": {
        "colab": {
          "base_uri": "https://localhost:8080/"
        },
        "id": "9KQpYWC7-FFF",
        "outputId": "c7937454-907d-4a3d-e004-ad56701792d7"
      },
      "outputs": [
        {
          "output_type": "stream",
          "name": "stdout",
          "text": [
            "Sample is using the end='\\,'\n",
            "0,1,2,3,4,5,6,7,8,9,\n",
            "Sample is using the end=' '\n",
            "0 1 2 3 4 5 6 7 8 9 \n",
            "Sample is without the end arguments\n",
            "0\n",
            "1\n",
            "2\n",
            "3\n",
            "4\n",
            "5\n",
            "6\n",
            "7\n",
            "8\n",
            "9\n"
          ]
        },
        {
          "output_type": "stream",
          "name": "stderr",
          "text": [
            "<>:1: SyntaxWarning: invalid escape sequence '\\,'\n",
            "<>:1: SyntaxWarning: invalid escape sequence '\\,'\n",
            "/tmp/ipython-input-2220267538.py:1: SyntaxWarning: invalid escape sequence '\\,'\n",
            "  print('Sample is using the end=\\'\\,\\'')\n"
          ]
        }
      ],
      "source": [
        "print('Sample is using the end=\\'\\,\\'')\n",
        "for i in range(10):\n",
        "    print(i, end=',')\n",
        "print('\\nSample is using the end=\\' \\'')\n",
        "for i in range(10):\n",
        "    print(i, end=' ')\n",
        "print('\\nSample is without the end arguments')\n",
        "for i in range(10):\n",
        "    print(i)"
      ]
    },
    {
      "cell_type": "markdown",
      "metadata": {
        "id": "U6o-Mudx-FFS"
      },
      "source": [
        "---\n",
        "## <span style=\"color:#0b486b\">3. datetime module</span>\n"
      ]
    },
    {
      "cell_type": "markdown",
      "metadata": {
        "id": "ro05oOUt-FFV"
      },
      "source": [
        "The datetime module includes functions and classes for date and time parsing, formatting, and arithmetic."
      ]
    },
    {
      "cell_type": "markdown",
      "metadata": {
        "id": "gBxIzp5W-FFa"
      },
      "source": [
        "<a id = \"time\"></a>\n",
        "\n",
        "### <span style=\"color:#0b486b\">3.1 Time</span>\n",
        "\n",
        "Time values are represented with the time class. Times have attributes for hour, minute, second, and microsecond. They can also include time zone information."
      ]
    },
    {
      "cell_type": "code",
      "execution_count": 16,
      "metadata": {
        "colab": {
          "base_uri": "https://localhost:8080/"
        },
        "id": "Up5dk2aY-FFd",
        "outputId": "1ae925ed-dcc6-4e96-ee96-870a957b20f5"
      },
      "outputs": [
        {
          "output_type": "stream",
          "name": "stdout",
          "text": [
            "11:21:33\n",
            "hour  : 11\n",
            "minute: 21\n",
            "second: 33\n",
            "microsecond: 0\n",
            "tzinfo: None\n"
          ]
        }
      ],
      "source": [
        "import datetime\n",
        "\n",
        "t = datetime.time(11, 21, 33)\n",
        "print(t)\n",
        "print('hour  :', t.hour)\n",
        "print('minute:', t.minute)\n",
        "print('second:', t.second)\n",
        "print('microsecond:', t.microsecond)\n",
        "print('tzinfo:', t.tzinfo)"
      ]
    },
    {
      "cell_type": "markdown",
      "metadata": {
        "id": "9mA0v-_s-FFq"
      },
      "source": [
        "<a id = \"date\"></a>\n",
        "\n",
        "### <span style=\"color:#0b486b\">3.2 Date</span>\n",
        "\n",
        "Calendar date values are represented with the date class. Instances have attributes for year, month, and day."
      ]
    },
    {
      "cell_type": "code",
      "execution_count": 17,
      "metadata": {
        "colab": {
          "base_uri": "https://localhost:8080/"
        },
        "id": "hPdlr4qX-FFt",
        "outputId": "7f50fde1-3541-48c7-90cf-0806285c2f70"
      },
      "outputs": [
        {
          "output_type": "stream",
          "name": "stdout",
          "text": [
            "2025-08-23\n",
            "ctime: Sat Aug 23 00:00:00 2025\n",
            "tuple: time.struct_time(tm_year=2025, tm_mon=8, tm_mday=23, tm_hour=0, tm_min=0, tm_sec=0, tm_wday=5, tm_yday=235, tm_isdst=-1)\n",
            "ordinal: 739486\n",
            "Year: 2025\n",
            "Mon : 8\n",
            "Day : 23\n"
          ]
        }
      ],
      "source": [
        "import datetime\n",
        "\n",
        "today = datetime.date.today()\n",
        "print(today)\n",
        "print('ctime:', today.ctime())\n",
        "print('tuple:', today.timetuple())\n",
        "print('ordinal:', today.toordinal())\n",
        "print('Year:', today.year)\n",
        "print('Mon :', today.month)\n",
        "print('Day :', today.day)"
      ]
    },
    {
      "cell_type": "markdown",
      "metadata": {
        "id": "PTbYXTCj-FF0"
      },
      "source": [
        "A way to create new date instances is using the `replace()` method of an existing date. For example, you can change the year, leaving the day and month alone."
      ]
    },
    {
      "cell_type": "code",
      "execution_count": 18,
      "metadata": {
        "colab": {
          "base_uri": "https://localhost:8080/"
        },
        "id": "2bkkUju6-FF3",
        "outputId": "a5e55a9e-4fc2-4177-e1f5-2101323d98be"
      },
      "outputs": [
        {
          "output_type": "stream",
          "name": "stdout",
          "text": [
            "d1: 2013-03-12\n",
            "d2: 2015-03-12\n"
          ]
        }
      ],
      "source": [
        "import datetime\n",
        "\n",
        "d1 = datetime.date(2013, 3, 12)\n",
        "print('d1:', d1)\n",
        "\n",
        "d2 = d1.replace(year=2015)\n",
        "print('d2:', d2)"
      ]
    },
    {
      "cell_type": "markdown",
      "metadata": {
        "id": "S2KFmbfp-FF_"
      },
      "source": [
        "**Exercise 4:**\n",
        "\n",
        "1. Write a piece of code that gives you the day of the week that you were born.\n",
        "2. How about this year? Do you know what day of the week is it?"
      ]
    },
    {
      "cell_type": "code",
      "execution_count": 22,
      "metadata": {
        "colab": {
          "base_uri": "https://localhost:8080/"
        },
        "id": "KCc7E-_Q-FGB",
        "outputId": "5d0ef946-9555-40bf-c5fe-79ee16122609"
      },
      "outputs": [
        {
          "output_type": "stream",
          "name": "stdout",
          "text": [
            "Today is Saturday\n",
            "I was born on Monday\n",
            "and my birthday this year is on a Saturday\n"
          ]
        }
      ],
      "source": [
        "#Put your code here\n",
        "import datetime\n",
        "day_of_week = {0 : 'Monday',\n",
        "              1: 'Tuesday',\n",
        "              2: 'Wednesday',\n",
        "              3: 'Thursday',\n",
        "              4: 'Friday',\n",
        "              5: 'Saturday',\n",
        "              6: 'Sunday'}\n",
        "# you could also use a list to store the days o the week\n",
        "# and it would work just fine.\n",
        "# days_of_week = ['Mon', 'Tue', 'Wed', 'Thu', 'Fri', 'Sat', 'Sun']\n",
        "\n",
        "print('Today is', day_of_week[datetime.date.today().weekday()])\n",
        "\n",
        "# Assume my birthday value is 10/10/2008\n",
        "my_birthdate = datetime.date(1982,8,16)\n",
        "print('I was born on', day_of_week[my_birthdate.weekday()])\n",
        "\n",
        "# Change the previous birthday year value with 2019\n",
        "t2 = my_birthdate.replace(year=2025)\n",
        "print('and my birthday this year is on a', day_of_week[t2.weekday()])"
      ]
    },
    {
      "cell_type": "markdown",
      "metadata": {
        "id": "SjLqYwOXo-Pi"
      },
      "source": [
        "<details><summary><u><b><font color=\"Blue\">Click here for the solution to Exercise 4</font></b></u></summary>\n",
        "\n",
        "```python\n",
        "import datetime\n",
        "day_of_week = {0 : 'Monday',\n",
        "              1: 'Tuesday',\n",
        "              2: 'Wednesday',\n",
        "              3: 'Thursday',\n",
        "              4: 'Friday',\n",
        "              5: 'Saturday',\n",
        "              6: 'Sunday'}\n",
        "# you could also use a list to store the days o the week\n",
        "# and it would work just fine.\n",
        "# days_of_week = ['Mon', 'Tue', 'Wed', 'Thu', 'Fri', 'Sat', 'Sun']\n",
        "\n",
        "print('Today is', day_of_week[datetime.date.today().weekday()])\n",
        "\n",
        "# Assume my birthday value is 10/10/2008\n",
        "my_birthdate = datetime.date(2008,10,10)\n",
        "print('I was born on', day_of_week[my_birthdate.weekday()])\n",
        "\n",
        "# Change the previous birthday year value with 2019\n",
        "t2 = my_birthdate.replace(year=2019)\n",
        "print('and my birthday this year is on a', day_of_week[t2.weekday()])\n",
        "```\n"
      ]
    },
    {
      "cell_type": "markdown",
      "metadata": {
        "id": "ESNhrSou-FGJ"
      },
      "source": [
        "<a id = \"timedelta\"></a>\n",
        "\n",
        "### <span style=\"color:#0b486b\">3.3 timedelta</span>\n",
        "Using `replace()` is not the only way to calculate future/past dates. You can use datetime to perform basic arithmetic on date values via the timedelta class."
      ]
    },
    {
      "cell_type": "code",
      "execution_count": 23,
      "metadata": {
        "colab": {
          "base_uri": "https://localhost:8080/"
        },
        "id": "fr7X-Pnq-FGL",
        "outputId": "e8f73136-15bd-417d-e154-a353ef8632c1"
      },
      "outputs": [
        {
          "output_type": "stream",
          "name": "stdout",
          "text": [
            "2025-08-23 12:41:00.147452\n",
            "2025-08-24 12:41:00.147452\n"
          ]
        }
      ],
      "source": [
        "today = datetime.datetime.today()\n",
        "print(today)\n",
        "\n",
        "tomorrow = today + datetime.timedelta(days=1)\n",
        "print(tomorrow)"
      ]
    },
    {
      "cell_type": "markdown",
      "metadata": {
        "id": "D1pyHfid-FGU"
      },
      "source": [
        "**Exercise 5:**\n",
        "\n",
        "Rewrite Exercise 4 using timedelta method."
      ]
    },
    {
      "cell_type": "code",
      "execution_count": 24,
      "metadata": {
        "colab": {
          "base_uri": "https://localhost:8080/"
        },
        "id": "xRr0jYZV-FGX",
        "outputId": "b1b7e74f-dec4-4705-af08-822087882700"
      },
      "outputs": [
        {
          "output_type": "stream",
          "name": "stdout",
          "text": [
            "Today is Saturday\n",
            "I was born on Friday\n",
            "and my birthday this year is on a Thursday\n"
          ]
        }
      ],
      "source": [
        "#Put your code here\n",
        "import datetime\n",
        "day_of_week = {0 : 'Monday',\n",
        "              1: 'Tuesday',\n",
        "              2: 'Wednesday',\n",
        "              3: 'Thursday',\n",
        "              4: 'Friday',\n",
        "              5: 'Saturday',\n",
        "              6: 'Sunday'}\n",
        "# You could also use a list to store the days o the week\n",
        "# and it would work just fine.\n",
        "# days_of_week = ['Mon', 'Tue', 'Wed', 'Thu', 'Fri', 'Sat', 'Sun']\n",
        "\n",
        "print('Today is', day_of_week[datetime.date.today().weekday()])\n",
        "\n",
        "# Assume my birthday value is 10/10/2008\n",
        "my_birthdate = datetime.date(2008,10,10)\n",
        "print('I was born on', day_of_week[my_birthdate.weekday()])\n",
        "\n",
        "# Change the previous birthday year value with 2019\n",
        "# You need to note that both 2012 and 2016 are leap year, which are 366 days in one year not 365 days.\n",
        "t2 = my_birthdate + datetime.timedelta(days=365)*9 + datetime.timedelta(days=366)*2\n",
        "print('and my birthday this year is on a', day_of_week[t2.weekday()])"
      ]
    },
    {
      "cell_type": "markdown",
      "metadata": {
        "id": "GOQNxj5zpdyE"
      },
      "source": [
        "<details><summary><u><b><font color=\"Blue\">Click here for the solution to Exercise 5</font></b></u></summary>\n",
        "\n",
        "```python\n",
        "import datetime\n",
        "day_of_week = {0 : 'Monday',\n",
        "              1: 'Tuesday',\n",
        "              2: 'Wednesday',\n",
        "              3: 'Thursday',\n",
        "              4: 'Friday',\n",
        "              5: 'Saturday',\n",
        "              6: 'Sunday'}\n",
        "# You could also use a list to store the days o the week\n",
        "# and it would work just fine.\n",
        "# days_of_week = ['Mon', 'Tue', 'Wed', 'Thu', 'Fri', 'Sat', 'Sun']\n",
        "\n",
        "print('Today is', day_of_week[datetime.date.today().weekday()])\n",
        "\n",
        "# Assume my birthday value is 10/10/2008\n",
        "my_birthdate = datetime.date(2008,10,10)\n",
        "print('I was born on', day_of_week[my_birthdate.weekday()])\n",
        "\n",
        "# Change the previous birthday year value with 2019\n",
        "#You need to note that both 2012 and 2016 are leap year, which are 366 days in one year not 365 days.\n",
        "t2 = my_birthdate + datetime.timedelta(days=365)*9 + datetime.timedelta(days=366)*2\n",
        "print('and my birthday this year is on a', day_of_week[t2.weekday()])\n",
        "```\n"
      ]
    },
    {
      "cell_type": "markdown",
      "metadata": {
        "id": "lCCVhKtCKewi"
      },
      "source": [
        "You will find that the result of exercise 4 is same with the exercise 5.  "
      ]
    },
    {
      "cell_type": "markdown",
      "metadata": {
        "id": "NlLyL9gz-FGd"
      },
      "source": [
        "You can use comparison operators for datetime objects too. It makes sense right?"
      ]
    },
    {
      "cell_type": "code",
      "execution_count": 25,
      "metadata": {
        "colab": {
          "base_uri": "https://localhost:8080/"
        },
        "id": "pN-yw9iA-FGg",
        "outputId": "601864ee-2e3c-4e16-cdc3-c6e3b3af09d0"
      },
      "outputs": [
        {
          "output_type": "execute_result",
          "data": {
            "text/plain": [
              "True"
            ]
          },
          "metadata": {},
          "execution_count": 25
        }
      ],
      "source": [
        "tomorrow > today"
      ]
    },
    {
      "cell_type": "markdown",
      "metadata": {
        "id": "5wwW6zPU-FGn"
      },
      "source": [
        "<a id = \"parsing\"></a>\n",
        "\n",
        "### <span style=\"color:#0b486b\">3.4 Formatting and Parsing</span>\n",
        "\n",
        "The default string representation of a datetime object uses the ISO 8601 format (YYYY-MM-DDTHH:MM:SS.mmmmmm). Alternate formats can be generated using `strftime()`. Similarly, if your input data includes timestamp values parsable with `time.strptime()`, then `datetime.strptime()` is a convenient way to convert them to datetime instances."
      ]
    },
    {
      "cell_type": "code",
      "execution_count": 26,
      "metadata": {
        "colab": {
          "base_uri": "https://localhost:8080/"
        },
        "id": "kRoDoulw-FGs",
        "outputId": "e201408a-5418-4b69-c601-1c21555b9ec9"
      },
      "outputs": [
        {
          "output_type": "stream",
          "name": "stdout",
          "text": [
            "ISO     : 2025-08-23 12:41:43.671847\n"
          ]
        }
      ],
      "source": [
        "today = datetime.datetime.today()\n",
        "print('ISO     :', today)"
      ]
    },
    {
      "cell_type": "markdown",
      "metadata": {
        "id": "nLpPny1k-FG1"
      },
      "source": [
        "string from datetime object"
      ]
    },
    {
      "cell_type": "code",
      "execution_count": 27,
      "metadata": {
        "colab": {
          "base_uri": "https://localhost:8080/"
        },
        "id": "0YNv0AR_-FG4",
        "outputId": "215745f2-fa1c-467b-8223-1a334869daf2"
      },
      "outputs": [
        {
          "output_type": "stream",
          "name": "stdout",
          "text": [
            "strftime: Sat Aug 23 12:41:43 2025\n"
          ]
        }
      ],
      "source": [
        "str_format = \"%a %b %d %H:%M:%S %Y\"\n",
        "s = today.strftime(str_format)\n",
        "print('strftime:', s)"
      ]
    },
    {
      "cell_type": "markdown",
      "metadata": {
        "id": "dC2aAHmT-FHB"
      },
      "source": [
        "datetime object from string"
      ]
    },
    {
      "cell_type": "code",
      "execution_count": 28,
      "metadata": {
        "colab": {
          "base_uri": "https://localhost:8080/"
        },
        "id": "qHTRTrSg-FHH",
        "outputId": "24f5bb30-52c4-4756-d5dd-a10ea86dfdce"
      },
      "outputs": [
        {
          "output_type": "stream",
          "name": "stdout",
          "text": [
            "Sat Aug 23 12:41:43 2025\n",
            "2025-08-23 12:41:43\n",
            "strptime: Sat Aug 23 12:41:43 2025\n"
          ]
        }
      ],
      "source": [
        "print(s)\n",
        "\n",
        "d = datetime.datetime.strptime(s, str_format)\n",
        "print(d)\n",
        "print('strptime:', d.strftime(str_format))"
      ]
    },
    {
      "cell_type": "code",
      "execution_count": 29,
      "metadata": {
        "colab": {
          "base_uri": "https://localhost:8080/"
        },
        "id": "UYPLivY6-FHO",
        "outputId": "ac97a8c5-5dcd-45c1-9465-f01f48dab63a"
      },
      "outputs": [
        {
          "output_type": "stream",
          "name": "stdout",
          "text": [
            "2017-07-03 00:00:00\n"
          ]
        }
      ],
      "source": [
        "# Define a string variable \"s\", its value is 07/03/2017\n",
        "s = \"07/03/2017\"\n",
        "# Define the string format\n",
        "str_format = \"%m/%d/%Y\"\n",
        "\n",
        "\n",
        "d = datetime.datetime.strptime(s, str_format)\n",
        "print(d)"
      ]
    },
    {
      "cell_type": "markdown",
      "metadata": {
        "id": "Gm82ouDc-FHV"
      },
      "source": [
        "**Exercise 6:**\n",
        "\n",
        "You have a string as \"7/30/2017 - 12:13\". How do you convert it into a datetime object?"
      ]
    },
    {
      "cell_type": "code",
      "execution_count": 30,
      "metadata": {
        "colab": {
          "base_uri": "https://localhost:8080/"
        },
        "id": "r1V0948Q-FHX",
        "outputId": "7b3b3ca5-d421-4d2d-a914-ae45a6220d35"
      },
      "outputs": [
        {
          "output_type": "stream",
          "name": "stdout",
          "text": [
            "2017-07-30 12:13:00\n"
          ]
        }
      ],
      "source": [
        "#Put your code here\n",
        "s = '7/30/2017 - 12:13'\n",
        "str_format = \"%m/%d/%Y - %H:%M\"\n",
        "t = datetime.datetime.strptime(s, str_format)\n",
        "print(t)"
      ]
    },
    {
      "cell_type": "markdown",
      "metadata": {
        "id": "MktknO-sqiPe"
      },
      "source": [
        "<details><summary><u><b><font color=\"Blue\">Click here for the solution to Exercise 6</font></b></u></summary>\n",
        "\n",
        "```python\n",
        "s = '7/30/2017 - 12:13'\n",
        "str_format = \"%m/%d/%Y - %H:%M\"\n",
        "t = datetime.datetime.strptime(s, str_format)\n",
        "print(t)\n",
        "```\n"
      ]
    }
  ],
  "metadata": {
    "colab": {
      "name": "M02H-Packages.ipynb",
      "provenance": []
    },
    "kernelspec": {
      "display_name": "Python 3",
      "language": "python",
      "name": "python3"
    },
    "language_info": {
      "codemirror_mode": {
        "name": "ipython",
        "version": 3
      },
      "file_extension": ".py",
      "mimetype": "text/x-python",
      "name": "python",
      "nbconvert_exporter": "python",
      "pygments_lexer": "ipython3",
      "version": "3.6.4"
    }
  },
  "nbformat": 4,
  "nbformat_minor": 0
}